{
 "cells": [
  {
   "cell_type": "markdown",
   "metadata": {},
   "source": [
    "# Project\n",
    "### Preprocessing\n",
    "\n"
   ]
  },
  {
   "cell_type": "code",
   "execution_count": 11,
   "metadata": {},
   "outputs": [],
   "source": [
    "import skimage.io as io\n",
    "import numpy as np\n",
    "from skimage.morphology import binary_erosion, binary_dilation, binary_closing,skeletonize, thin\n",
    "from commonfunctions import *\n",
    "from pip._internal import main as install"
   ]
  },
  {
   "cell_type": "code",
   "execution_count": 18,
   "metadata": {},
   "outputs": [],
   "source": [
    "img= cv2.imread(\"note.png\") \n",
    "cv2.imshow(\"Images\",img) \n",
    "cv2.waitKey(0) \n",
    "cv2.destroyAllWindows() \n",
    "countourImg=np.copy(img)\n",
    "gray_img=cv2.cvtColor(img,cv2.COLOR_BGR2GRAY) \n",
    "#We May Calc NSR first before smoothing to avoid edge blurring in good quality images\n",
    "smoothedImage=cv2.bilateralFilter(gray_img,8,10,10)\n",
    "cv2.imshow(\"Images\",smoothedImage) \n",
    "cv2.waitKey(0) \n",
    "cv2.destroyAllWindows() \n"
   ]
  },
  {
   "cell_type": "code",
   "execution_count": 19,
   "metadata": {},
   "outputs": [],
   "source": [
    "def customErosion(img,ST):\n",
    "    countOnes= sum(sum(ST))\n",
    "    imgConvolved = convolve2d(img,ST,mode=\"same\")\n",
    "    imgEroded = np.where(imgConvolved == countOnes,1,0)\n",
    "    return imgEroded\n",
    "\n",
    "def customDilation(img,ST):\n",
    "    imgConvolved = convolve2d(img,ST,mode=\"same\")\n",
    "    imgDilated = np.where(imgConvolved >= 1,1,0)\n",
    "    return imgDilated\n"
   ]
  },
  {
   "cell_type": "code",
   "execution_count": 20,
   "metadata": {},
   "outputs": [],
   "source": [
    "def calcUb(img, imgHist, t):\n",
    "    imgCopy = np.copy(img)\n",
    "    size = img.shape[0]*img.shape[1]\n",
    "    indeciesGreaterThanT = np.where(imgHist[1] >= t)\n",
    "    indeciesLessThanT = np.where(imgHist[1] < t)\n",
    "    indeciesGreaterThanT = np.array(indeciesGreaterThanT)\n",
    "    indeciesLessThanT = np.array(indeciesLessThanT)\n",
    "    grayLevelsGreater = np.zeros(indeciesGreaterThanT.shape[1])\n",
    "    grayLevelsLess = np.zeros(indeciesLessThanT.shape[1])\n",
    "    grayLevelsGreaterProb = np.zeros(indeciesGreaterThanT.shape[1])\n",
    "    grayLevelsLessProb = np.zeros(indeciesLessThanT.shape[1])\n",
    "    i = 0\n",
    "    for index in indeciesGreaterThanT[0]:\n",
    "        grayLevelsGreater[i] = imgHist[1][index]\n",
    "        grayLevelsGreaterProb[i] = imgHist[0][index]\n",
    "        i += 1\n",
    "    i = 0\n",
    "    for index in indeciesLessThanT[0]:\n",
    "        grayLevelsLess[i] = imgHist[1][index]\n",
    "        grayLevelsLessProb[i] = imgHist[0][index]\n",
    "        i += 1\n",
    "    size = img.shape[0]*img.shape[1]\n",
    "\n",
    "    grayLevelsGreaterProb = grayLevelsGreaterProb/size\n",
    "    grayLevelsLessProb = grayLevelsLessProb/size\n",
    "    w1 = np.sum(grayLevelsLessProb)\n",
    "    w2 = np.sum(grayLevelsGreaterProb)\n",
    "    u1 = 0\n",
    "    u2 = 0\n",
    "    for x in range(grayLevelsLess.shape[0]):\n",
    "        u1 += ((grayLevelsLess[x]*grayLevelsLessProb[x])/w1)\n",
    "    for x in range(grayLevelsGreater.shape[0]):\n",
    "        u2 += ((grayLevelsGreater[x]*grayLevelsGreaterProb[x])/w2)\n",
    "    ub = w1*w2*(u1-u2)**2\n",
    "    return ub\n",
    "\n",
    "\n",
    "def OTSU_Binarization(grayImg):\n",
    "    Threshold = 0\n",
    "    Ub = 0\n",
    "    imgHist = showHist(grayImg)\n",
    "    for t in range(255):\n",
    "        Ubtmp = calcUb(grayImg, imgHist, t)\n",
    "        if(Ubtmp > Ub):\n",
    "            Threshold = t\n",
    "            Ub = Ubtmp\n",
    "    img = np.where(grayImg >= Threshold, 0, 1)\n",
    "    return img"
   ]
  },
  {
   "cell_type": "code",
   "execution_count": 21,
   "metadata": {},
   "outputs": [
    {
     "data": {
      "text/plain": [
       "True"
      ]
     },
     "execution_count": 21,
     "metadata": {},
     "output_type": "execute_result"
    }
   ],
   "source": [
    "BinarizedImage = OTSU_Binarization(smoothedImage)\n",
    "cv2.imwrite('BinarizedImage.jpeg',BinarizedImage*255)\n",
    "ST=np.ones((3,3))\n",
    "eroded=customErosion(BinarizedImage,ST)\n",
    "opened=customDilation(eroded,ST)\n",
    "cv2.imwrite('Opened.jpg',opened*255)"
   ]
  },
  {
   "cell_type": "code",
   "execution_count": 22,
   "metadata": {},
   "outputs": [
    {
     "data": {
      "text/plain": [
       "True"
      ]
     },
     "execution_count": 22,
     "metadata": {},
     "output_type": "execute_result"
    }
   ],
   "source": [
    "countours,heirarchy=cv2.findContours(cv2.convertScaleAbs(BinarizedImage),cv2.RETR_EXTERNAL,cv2.CHAIN_APPROX_NONE)\n",
    "cv2.drawContours(countourImg,countours,-1,(0,255,0))\n",
    "cv2.imwrite('ContouredImg.jpg',countourImg)"
   ]
  },
  {
   "cell_type": "code",
   "execution_count": null,
   "metadata": {},
   "outputs": [],
   "source": []
  },
  {
   "cell_type": "code",
   "execution_count": null,
   "metadata": {},
   "outputs": [],
   "source": []
  },
  {
   "cell_type": "code",
   "execution_count": null,
   "metadata": {},
   "outputs": [],
   "source": []
  }
 ],
 "metadata": {
  "kernelspec": {
   "display_name": "Python 3",
   "language": "python",
   "name": "python3"
  },
  "language_info": {
   "codemirror_mode": {
    "name": "ipython",
    "version": 3
   },
   "file_extension": ".py",
   "mimetype": "text/x-python",
   "name": "python",
   "nbconvert_exporter": "python",
   "pygments_lexer": "ipython3",
   "version": "3.8.3"
  }
 },
 "nbformat": 4,
 "nbformat_minor": 4
}
