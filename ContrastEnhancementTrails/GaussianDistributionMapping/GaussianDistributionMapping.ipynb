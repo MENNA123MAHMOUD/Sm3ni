{
 "metadata": {
  "language_info": {
   "codemirror_mode": {
    "name": "ipython",
    "version": 3
   },
   "file_extension": ".py",
   "mimetype": "text/x-python",
   "name": "python",
   "nbconvert_exporter": "python",
   "pygments_lexer": "ipython3",
   "version": "3.8.5-final"
  },
  "orig_nbformat": 2,
  "kernelspec": {
   "name": "python38564bit98a03dd4367347d0aeef0487258956ad",
   "display_name": "Python 3.8.5 64-bit"
  }
 },
 "nbformat": 4,
 "nbformat_minor": 2,
 "cells": [
  {
   "cell_type": "code",
   "execution_count": 5,
   "metadata": {},
   "outputs": [],
   "source": [
    "import numpy as np\n",
    "import cv2"
   ]
  },
  {
   "cell_type": "code",
   "execution_count": 13,
   "metadata": {},
   "outputs": [
    {
     "output_type": "stream",
     "name": "stdout",
     "text": [
      "2035.5912231599293     242.91985050665193\n",
      "2496.943592563108     243.8088887429387\n",
      "2409.878757528085     244.18458188672807\n",
      "2000.1150138669684     246.2859026181345\n",
      "2381.806441761327     244.72021601597268\n",
      "4146.815622860158     236.32115126296463\n",
      "4392.754520870507     236.41967443547344\n",
      "6474.403854934875     225.44299995281202\n",
      "6574.549840454742     224.80675325872195\n",
      "4989.285404283178     233.6459589231584\n",
      "6218.803296613624     227.03423660430974\n"
     ]
    }
   ],
   "source": [
    "\n",
    "img = cv2.imread('1.png', 0)\n",
    "var = np.var(img)\n",
    "mean = np.mean(img)\n",
    "print(var,\"   \", mean)\n",
    "img = cv2.imread('2.png', 0)\n",
    "var = np.var(img)\n",
    "mean = np.mean(img)\n",
    "print(var,\"   \", mean)\n",
    "img = cv2.imread('3.png', 0)\n",
    "var = np.var(img)\n",
    "mean = np.mean(img)\n",
    "print(var,\"   \", mean)\n",
    "img = cv2.imread('4.png', 0)\n",
    "var = np.var(img)\n",
    "mean = np.mean(img)\n",
    "print(var,\"   \", mean)\n",
    "img = cv2.imread('5.png', 0)\n",
    "var = np.var(img)\n",
    "mean = np.mean(img)\n",
    "print(var,\"   \", mean)\n",
    "img = cv2.imread('6.png', 0)\n",
    "var = np.var(img)\n",
    "mean = np.mean(img)\n",
    "print(var,\"   \", mean)\n",
    "img = cv2.imread('7.png', 0)\n",
    "var = np.var(img)\n",
    "mean = np.mean(img)\n",
    "print(var,\"   \", mean)\n",
    "img = cv2.imread('8.png', 0)\n",
    "var = np.var(img)\n",
    "mean = np.mean(img)\n",
    "print(var,\"   \", mean)\n",
    "img = cv2.imread('9.png', 0)\n",
    "var = np.var(img)\n",
    "mean = np.mean(img)\n",
    "print(var,\"   \", mean)\n",
    "img = cv2.imread('10.png', 0)\n",
    "var = np.var(img)\n",
    "mean = np.mean(img)\n",
    "print(var,\"   \", mean)\n",
    "img = cv2.imread('11.png', 0)\n",
    "var = np.var(img)\n",
    "mean = np.mean(img)\n",
    "print(\"11\" ,var,\"   \", mean)\n"
   ]
  },
  {
   "cell_type": "code",
   "execution_count": null,
   "metadata": {},
   "outputs": [],
   "source": []
  }
 ]
}