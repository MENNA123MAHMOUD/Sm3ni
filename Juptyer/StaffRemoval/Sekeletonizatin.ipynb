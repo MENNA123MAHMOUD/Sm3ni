{
 "cells": [
  {
   "cell_type": "code",
   "execution_count": 19,
   "metadata": {},
   "outputs": [],
   "source": [
    "import cv2\n",
    "import skimage.io as io\n",
    "import numpy as np\n",
    "from skimage.morphology import binary_erosion, binary_dilation, binary_closing,skeletonize, thin\n",
    "from scipy.signal import convolve2d\n",
    "from statistics import mode \n",
    "from math import sqrt"
   ]
  },
  {
   "cell_type": "code",
   "execution_count": 20,
   "metadata": {},
   "outputs": [],
   "source": [
    "def showBinaryImg(img):\n",
    "    cv2.imshow(\"Images\",img*255)\n",
    "    cv2.waitKey(0) \n",
    "    cv2.destroyAllWindows()\n",
    "def showImg(img):\n",
    "    cv2.imshow(\"Images\",img)\n",
    "    cv2.waitKey(0) \n",
    "    cv2.destroyAllWindows()"
   ]
  },
  {
   "cell_type": "code",
   "execution_count": 21,
   "metadata": {},
   "outputs": [],
   "source": [
    "def calcStaffHeightSpace(img):\n",
    "    count=0\n",
    "    staffHeight=[]\n",
    "    staffSpace=[]\n",
    "    n,m=img.shape\n",
    "    lines=[]\n",
    "    for j in range(m):\n",
    "        start=end=0\n",
    "        for i in range(n-1):\n",
    "            if(img[i][j]!=img[i+1][j]):\n",
    "                if img[i][j]==0:\n",
    "                    #end of zeros\n",
    "                    start=i\n",
    "                    staffSpace.append(count)\n",
    "                else:\n",
    "                    #end of ones\n",
    "                    end=i\n",
    "                    lines.append([j,start,end,count])#colIndex,start in coloum Index,end in coloum index,thikness\n",
    "                    staffHeight.append(count)\n",
    "                count=0\n",
    "            else:\n",
    "                count+=1\n",
    "        \n",
    "                       \n",
    "    staffHeight=mode(staffHeight)\n",
    "    staffSpace=mode(staffSpace)\n",
    "    return lines,staffSpace,staffHeight\n"
   ]
  },
  {
   "cell_type": "code",
   "execution_count": 22,
   "metadata": {},
   "outputs": [],
   "source": [
    "def removeSymbol(img,lines,staffHeight,staffSpace):\n",
    "    Thres=min(staffHeight+staffSpace,2*staffHeight)\n",
    "    lines=np.array(lines)\n",
    "    indices=np.where(lines[:,3]>Thres)\n",
    "    staffImg=np.copy(img)\n",
    "    for i in indices[0]:\n",
    "       # print(i)\n",
    "        col,start,end,thres=lines[i]\n",
    "        staffImg[start:end+1,col]=0\n",
    "    #print(img)\n",
    "    return staffImg"
   ]
  },
  {
   "cell_type": "code",
   "execution_count": 27,
   "metadata": {
    "tags": []
   },
   "outputs": [
    {
     "output_type": "stream",
     "name": "stdout",
     "text": [
      "3 29\n"
     ]
    },
    {
     "output_type": "execute_result",
     "data": {
      "text/plain": [
       "True"
      ]
     },
     "metadata": {},
     "execution_count": 27
    }
   ],
   "source": [
    "img= cv2.imread(\"13a.png\",0) \n",
    "img=img/255\n",
    "# print(img)\n",
    "img=1-img\n",
    "imgLines,staffS,staffH=calcStaffHeightSpace(img)\n",
    "print(staffH,staffS)\n",
    "imgRemovedSymbols=removeSymbol(img,imgLines,staffH,staffS)\n",
    "cv2.imwrite(\"staffout.png\",imgRemovedSymbols*255)\n",
    "#showBinaryImg(imgRemovedSymbols)\n",
    "neg=img-imgRemovedSymbols\n",
    "# print(img)\n",
    "# print(imgRemovedSymbols)\n",
    "neg =1-neg\n",
    "cv2.imwrite(\"neg.png\",neg*255)"
   ]
  },
  {
   "cell_type": "code",
   "execution_count": 18,
   "metadata": {
    "tags": []
   },
   "outputs": [],
   "source": [
    "def getDist(curComp,compIndex,lines,j,staffHremoved):\n",
    "    indices=np.where((lines[:,0]==j) & (lines[:,3] >= 0.5*staffHremoved) & (lines[:,3] <= 2*staffHremoved))\n",
    "    if(compIndex>=indices[0].size):\n",
    "        return 0\n",
    "    nextComp=lines[indices[0][compIndex]]\n",
    "    colIndex1=curComp[0]\n",
    "    colIndex2=nextComp[0]\n",
    "    rowIndex1=(curComp[2]+curComp[1])/2\n",
    "    rowIndex2=(nextComp[2]+nextComp[1])/2\n",
    "    dist=sqrt((colIndex1-colIndex2)**2+(rowIndex1-rowIndex2)**2)\n",
    "    return (1/j)*dist\n",
    "\n",
    "imgLines,staffSremoved,staffHremoved=calcStaffHeightSpace(imgRemovedSymbols)\n",
    "lines=np.array(imgLines)\n",
    "indices=np.where(lines[:,0]==5)\n",
    "k=5\n",
    "oGlobal=[]\n",
    "m=imgRemovedSymbols.shape[1]\n",
    "for i in range(m):\n",
    "    o=[]\n",
    "    indices=np.where((lines[:,0]==i) & (lines[:,3] >= 0.5*staffHremoved) & (lines[:,3] <= 2*staffHremoved))\n",
    "    curCompIndex=0\n",
    "    if indices[0].size > 5:\n",
    "        for component in indices[0]:\n",
    "            col=lines[component][0]\n",
    "            orient=0\n",
    "            for j in range(k):\n",
    "                if(col+j+1<m):\n",
    "\n",
    "                    orient+=getDist(lines[component],curCompIndex,lines,col+j+1,staffHremoved)\n",
    "            o.append(orient)\n",
    "            curCompIndex+=1\n",
    "        oi=sum(o)/indices[0].size\n",
    "        oGlobal.append(oi)\n",
    " \n",
    "n=img.shape[0]\n",
    "groups=np.zeros((n,m))\n",
    "lastGroup=0\n",
    "def getNextPixel(slope,x,y):\n",
    "    c=y-slope*x\n",
    "    neigh0=[x,y+1]\n",
    "    neigh1=[x-1,y+1]\n",
    "    neigh7=[x+1,y+1]\n",
    "    dist0=abs(neigh0[1]-slope*neigh0[0]-c)/sqrt(1+slope**2)\n",
    "    dist1=abs(neigh1[1]-slope*neigh1[0]-c)/sqrt(1+slope**2)\n",
    "    dist7=abs(neigh7[1]-slope*neigh7[0]-c)/sqrt(1+slope**2)\n",
    "\n",
    "    if(dist0<dist1 and dist0<dist7):\n",
    "        return x,y+1\n",
    "    if(dist1<dist0 and dist1<dist7):\n",
    "        return x-1,y+1\n",
    "    if(dist7<dist0 and dist7<dist1):\n",
    "        return x+1,y+1\n",
    "    return x+1,y+1\n",
    "#for x in range(n):\n",
    "#    for y in range(m):\n",
    "#        if(groups[x][y]==0):\n",
    "#            groups[x][y]=lastGroup+1\n",
    "#            lastGroup+=1\n",
    "#            for orien in range(len(oGlobal)):\n",
    "#                xn,yn=getNextPixel(oGlobal[orien],x,y)\n",
    "#                if(xn>=n or yn >=m):\n",
    "#                    break\n",
    "#                groups[xn][yn]=groups[x][y]\n",
    "        \n"
   ]
  },
  {
   "cell_type": "code",
   "execution_count": null,
   "metadata": {},
   "outputs": [],
   "source": []
  },
  {
   "cell_type": "code",
   "execution_count": null,
   "metadata": {},
   "outputs": [],
   "source": []
  }
 ],
 "metadata": {
  "kernelspec": {
   "display_name": "Python 3",
   "language": "python",
   "name": "python3"
  },
  "language_info": {
   "codemirror_mode": {
    "name": "ipython",
    "version": 3
   },
   "file_extension": ".py",
   "mimetype": "text/x-python",
   "name": "python",
   "nbconvert_exporter": "python",
   "pygments_lexer": "ipython3",
   "version": "3.8.5-final"
  }
 },
 "nbformat": 4,
 "nbformat_minor": 2
}