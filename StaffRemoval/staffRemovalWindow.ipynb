{
 "cells": [
  {
   "cell_type": "code",
   "execution_count": 162,
   "metadata": {},
   "outputs": [],
   "source": [
    "import cv2\n",
    "import skimage.io as io\n",
    "import numpy as np\n",
    "from skimage.morphology import binary_erosion, binary_dilation, binary_closing,skeletonize, thin\n",
    "from scipy.signal import convolve2d\n",
    "from statistics import mode \n",
    "from math import sqrt"
   ]
  },
  {
   "cell_type": "code",
   "execution_count": 163,
   "metadata": {},
   "outputs": [],
   "source": [
    "def showBinaryImg(img):\n",
    "    cv2.imshow(\"Images\",img*255)\n",
    "    cv2.waitKey(0) \n",
    "    cv2.destroyAllWindows()\n",
    "def showImg(img):\n",
    "    cv2.imshow(\"Images\",img)\n",
    "    cv2.waitKey(0) \n",
    "    cv2.destroyAllWindows()"
   ]
  },
  {
   "cell_type": "code",
   "execution_count": 164,
   "metadata": {},
   "outputs": [],
   "source": [
    "def opening(img,ST):\n",
    "    imgEroded=cv2.erode(img,ST)\n",
    "    return cv2.dilate(imgEroded,ST)\n",
    "def closing(img,ST):\n",
    "    imgDilated=cv2.dilate(img,ST)\n",
    "    return cv2.erode(imgDilated,ST)"
   ]
  },
  {
   "cell_type": "code",
   "execution_count": 165,
   "metadata": {},
   "outputs": [
    {
     "output_type": "stream",
     "name": "stdout",
     "text": [
      "(300,) (300, 550)\n"
     ]
    }
   ],
   "source": [
    "img= cv2.imread(\"handBin.png\",0) \n",
    "\n",
    "# cv2.imwrite(\"test.jpg\",img)\n",
    "# print(img[:,1])\n",
    "if(np.amax(img)==1):\n",
    "    # img=img.astype(\"uint8\")\n",
    "    # cv2.imwrite(\"test1.jpg\",img)\n",
    "    print(\"hi\")\n",
    "else:\n",
    "    img=(img/255)\n",
    "    # cv2.imwrite(\"test2.png\",img*255)\n",
    "# print(img[:,1])\n",
    "img2= np.copy(img)\n",
    "img=1-img\n",
    "\n",
    "\n",
    "# cv2.imwrite(\"test3.jpg\",img*255)\n",
    "# print(img)\n",
    "proj = np.sum(img,1)\n",
    "#proj=1-proj\n",
    "maxProjection = np.max(proj) \n",
    "w = 500 \n",
    "result = np.zeros(img.shape) \n",
    "result2 = np.zeros(img.shape) \n",
    "width=img.shape[1] \n",
    "binOrig=np.copy(img) \n",
    "# Draw a line for each row \n",
    "for row in range(img.shape[0]):\n",
    "    result2[row,0:int(proj[row])]=1\n",
    "    if(proj[row]>.8*maxProjection): \n",
    "        cv2.line(result, (0,row), (int(proj[row]*(maxProjection/width)),row), (255,255,255), 1) \n",
    "        \n",
    "cv2.imwrite('result2.png', result2*255) \n",
    "cv2.imwrite('result.png', result) \n",
    "result=result2\n",
    "result=1-result\n",
    "print(proj.shape, img.shape)"
   ]
  },
  {
   "cell_type": "code",
   "execution_count": 166,
   "metadata": {},
   "outputs": [
    {
     "output_type": "stream",
     "name": "stdout",
     "text": [
      "251 550\n[[0. 0. 0. ... 1. 1. 1.]\n [0. 0. 1. ... 1. 1. 1.]\n [0. 1. 1. ... 1. 1. 1.]\n ...\n [0. 0. 0. ... 1. 1. 1.]\n [0. 0. 0. ... 1. 1. 1.]\n [0. 0. 0. ... 1. 1. 1.]]\n77 80\n78.5\n83 85\n84.0\n88 91\n89.5\n94 97\n95.5\n99 102\n100.5\n140 142\n141.0\n145 148\n146.5\n151 153\n152.0\n156 159\n157.5\n161 164\n162.5\n199 201\n200.0\n204 207\n205.5\n210 212\n211.0\n215 218\n216.5\n220 223\n221.5\n257 260\n258.5\n263 266\n264.5\n269 271\n270.0\n274 277\n275.5\n279 282\n280.5\n[3 2 3 3 3 2 3 2 3 3 2 3 2 3 3 3 3 2 3 3] [ 78  84  89  95 100 141 146 152 157 162 200 205 211 216 221 258 264 270\n 275 280]\n"
     ]
    }
   ],
   "source": [
    "def calcStaffPos(rowHist):\n",
    "    n,m=rowHist.shape\n",
    "    thres=int(2*(maxProjection)/4)\n",
    "    print(thres,m)\n",
    "    start=end=0\n",
    "    print(rowHist)\n",
    "    width=[]\n",
    "    #rowHist=(rowHist/255).astype(\"uint8\")\n",
    "    peaksMid=[]\n",
    "    for i in range(n-1):\n",
    "        if(rowHist[i][thres]!=rowHist[i+1][thres]):\n",
    "            if rowHist[i][thres]==1:\n",
    "                #end of zeros\n",
    "                start=i\n",
    "            else:\n",
    "                #end of ones\n",
    "                end=i+1\n",
    "                print(start,end)\n",
    "                print((start+end)/2)\n",
    "                peaksMid.append(int((start+end)/2))\n",
    "                width.append((end-start))\n",
    "    \n",
    "    return np.array(width),np.array(peaksMid)\n",
    "\n",
    "width,peaksMids=calcStaffPos(result)\n",
    "print(width,peaksMids)"
   ]
  },
  {
   "cell_type": "code",
   "execution_count": 167,
   "metadata": {
    "tags": []
   },
   "outputs": [
    {
     "output_type": "execute_result",
     "data": {
      "text/plain": [
       "True"
      ]
     },
     "metadata": {},
     "execution_count": 167
    }
   ],
   "source": [
    "def removeStaffRow(imgOriginal,midPoint,curWidth):\n",
    "    thresPixel=curWidth\n",
    "    for i in range(imgOriginal.shape[1]):\n",
    "        pixelSum= sum(imgOriginal[midPoint-curWidth:midPoint+curWidth,i:i+1])\n",
    "        if(pixelSum<=thresPixel):\n",
    "           # print(imgOriginal[midPoint-curWidth:midPoint+curWidth,i:i+1])\n",
    "            imgOriginal[midPoint-curWidth:midPoint+curWidth,i:i+1]=0\n",
    "    return imgOriginal\n",
    "\n",
    "\n",
    "# img= cv2.imread(\"note.png\",0) \n",
    "# img=img/255\n",
    "# img=img.astype('uint8')\n",
    "# imgCopy=np.copy(img)\n",
    "# cv2.imwrite(\"imgCopy.png\",img*255)\n",
    "img2=1-img2\n",
    "for i in range(len(peaksMids)):\n",
    "    img2=removeStaffRow(img2,peaksMids[i],width[i])\n",
    "\n",
    "# img2=1-img2\n",
    "ST=np.ones((8,2))\n",
    "img2=cv2.dilate(img2,ST)\n",
    "cv2.imwrite(\"outing.png\",img2*255)\n",
    "    "
   ]
  },
  {
   "cell_type": "code",
   "execution_count": null,
   "metadata": {},
   "outputs": [],
   "source": []
  },
  {
   "cell_type": "code",
   "execution_count": null,
   "metadata": {},
   "outputs": [],
   "source": []
  }
 ],
 "metadata": {
  "kernelspec": {
   "display_name": "Python 3",
   "language": "python",
   "name": "python3"
  },
  "language_info": {
   "codemirror_mode": {
    "name": "ipython",
    "version": 3
   },
   "file_extension": ".py",
   "mimetype": "text/x-python",
   "name": "python",
   "nbconvert_exporter": "python",
   "pygments_lexer": "ipython3",
   "version": "3.8.5-final"
  }
 },
 "nbformat": 4,
 "nbformat_minor": 2
}