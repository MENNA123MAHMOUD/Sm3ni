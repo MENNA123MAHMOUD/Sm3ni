{
 "cells": [
  {
   "cell_type": "code",
   "execution_count": 1,
   "metadata": {},
   "outputs": [],
   "source": [
    "import cv2\n",
    "import skimage.io as io\n",
    "import numpy as np\n",
    "from skimage.morphology import binary_erosion, binary_dilation, binary_closing,skeletonize, thin\n",
    "from scipy.signal import convolve2d\n",
    "from statistics import mode \n",
    "from math import sqrt"
   ]
  },
  {
   "cell_type": "code",
   "execution_count": 2,
   "metadata": {},
   "outputs": [],
   "source": [
    "def showBinaryImg(img):\n",
    "    cv2.imshow(\"Images\",img*255)\n",
    "    cv2.waitKey(0) \n",
    "    cv2.destroyAllWindows()\n",
    "def showImg(img):\n",
    "    cv2.imshow(\"Images\",img)\n",
    "    cv2.waitKey(0) \n",
    "    cv2.destroyAllWindows()"
   ]
  },
  {
   "cell_type": "code",
   "execution_count": 3,
   "metadata": {},
   "outputs": [],
   "source": [
    "def opening(img,ST):\n",
    "    imgEroded=cv2.erode(img,ST)\n",
    "    return cv2.dilate(imgEroded,ST)\n",
    "def closing(img,ST):\n",
    "    imgDilated=cv2.dilate(img,ST)\n",
    "    return cv2.erode(imgDilated,ST)"
   ]
  },
  {
   "cell_type": "code",
   "execution_count": 4,
   "metadata": {},
   "outputs": [
    {
     "name": "stdout",
     "output_type": "stream",
     "text": [
      "(277,) (277, 682)\n"
     ]
    }
   ],
   "source": [
    "img= cv2.imread(\"note.png\",0) \n",
    "\n",
    "# cv2.imwrite(\"test.jpg\",img)\n",
    "# print(img[:,1])\n",
    "if(np.amax(img)==1):\n",
    "    # img=img.astype(\"uint8\")\n",
    "    # cv2.imwrite(\"test1.jpg\",img)\n",
    "    print(\"hi\")\n",
    "else:\n",
    "    img=(img/255)\n",
    "    # cv2.imwrite(\"test2.png\",img*255)\n",
    "# print(img[:,1])\n",
    "img2= np.copy(img)\n",
    "img=1-img\n",
    "\n",
    "\n",
    "# cv2.imwrite(\"test3.jpg\",img*255)\n",
    "# print(img)\n",
    "proj = np.sum(img,1)\n",
    "#proj=1-proj\n",
    "maxProjection = np.max(proj) \n",
    "w = 500 \n",
    "result = np.zeros(img.shape) \n",
    "result2 = np.zeros(img.shape) \n",
    "width=img.shape[1] \n",
    "binOrig=np.copy(img) \n",
    "# Draw a line for each row \n",
    "for row in range(img.shape[0]):\n",
    "    result2[row,0:int(proj[row])]=1\n",
    "    if(proj[row]>.8*maxProjection): \n",
    "        cv2.line(result, (0,row), (int(proj[row]*(maxProjection/width)),row), (255,255,255), 1) \n",
    "        \n",
    "cv2.imwrite('result2.png', result2*255) \n",
    "cv2.imwrite('result.png', result) \n",
    "result=result2\n",
    "result=1-result\n",
    "print(proj.shape, img.shape)"
   ]
  },
  {
   "cell_type": "code",
   "execution_count": 5,
   "metadata": {},
   "outputs": [
    {
     "name": "stdout",
     "output_type": "stream",
     "text": [
      "173 682\n",
      "[[1. 1. 1. ... 1. 1. 1.]\n",
      " [1. 1. 1. ... 1. 1. 1.]\n",
      " [1. 1. 1. ... 1. 1. 1.]\n",
      " ...\n",
      " [1. 1. 1. ... 1. 1. 1.]\n",
      " [1. 1. 1. ... 1. 1. 1.]\n",
      " [1. 1. 1. ... 1. 1. 1.]]\n",
      "15 17\n",
      "16.0\n",
      "22 24\n",
      "23.0\n",
      "30 32\n",
      "31.0\n",
      "38 40\n",
      "39.0\n",
      "45 48\n",
      "46.5\n",
      "82 84\n",
      "83.0\n",
      "90 92\n",
      "91.0\n",
      "98 100\n",
      "99.0\n",
      "105 108\n",
      "106.5\n",
      "113 115\n",
      "114.0\n",
      "150 152\n",
      "151.0\n",
      "158 160\n",
      "159.0\n",
      "166 168\n",
      "167.0\n",
      "174 176\n",
      "175.0\n",
      "181 183\n",
      "182.0\n",
      "218 220\n",
      "219.0\n",
      "226 228\n",
      "227.0\n",
      "234 236\n",
      "235.0\n",
      "241 243\n",
      "242.0\n",
      "249 251\n",
      "250.0\n",
      "[2 2 2 2 3 2 2 2 3 2 2 2 2 2 2 2 2 2 2 2] [ 16  23  31  39  46  83  91  99 106 114 151 159 167 175 182 219 227 235\n",
      " 242 250]\n"
     ]
    }
   ],
   "source": [
    "def calcStaffPos(rowHist):\n",
    "    n,m=rowHist.shape\n",
    "    thres=int(2*(maxProjection)/4)\n",
    "    print(thres,m)\n",
    "    start=end=0\n",
    "    print(rowHist)\n",
    "    width=[]\n",
    "    #rowHist=(rowHist/255).astype(\"uint8\")\n",
    "    peaksMid=[]\n",
    "    for i in range(n-1):\n",
    "        if(rowHist[i][thres]!=rowHist[i+1][thres]):\n",
    "            if rowHist[i][thres]==1:\n",
    "                #end of zeros\n",
    "                start=i\n",
    "            else:\n",
    "                #end of ones\n",
    "                end=i+1\n",
    "                print(start,end)\n",
    "                print((start+end)/2)\n",
    "                peaksMid.append(int((start+end)/2))\n",
    "                width.append((end-start))\n",
    "    \n",
    "    return np.array(width),np.array(peaksMid)\n",
    "\n",
    "width,peaksMids=calcStaffPos(result)\n",
    "print(width,peaksMids)"
   ]
  },
  {
   "cell_type": "code",
   "execution_count": 6,
   "metadata": {
    "tags": []
   },
   "outputs": [
    {
     "data": {
      "text/plain": [
       "True"
      ]
     },
     "execution_count": 6,
     "metadata": {},
     "output_type": "execute_result"
    }
   ],
   "source": [
    "def removeStaffRow(imgOriginal,midPoint,curWidth):\n",
    "    thresPixel=curWidth\n",
    "    for i in range(imgOriginal.shape[1]):\n",
    "        pixelSum= sum(imgOriginal[midPoint-curWidth:midPoint+curWidth,i:i+1])\n",
    "        if(pixelSum<=thresPixel):\n",
    "           # print(imgOriginal[midPoint-curWidth:midPoint+curWidth,i:i+1])\n",
    "            imgOriginal[midPoint-curWidth:midPoint+curWidth,i:i+1]=0\n",
    "    return imgOriginal\n",
    "\n",
    "\n",
    "# img= cv2.imread(\"note.png\",0) \n",
    "# img=img/255\n",
    "# img=img.astype('uint8')\n",
    "# imgCopy=np.copy(img)\n",
    "# cv2.imwrite(\"imgCopy.png\",img*255)\n",
    "img2=1-img2\n",
    "ST=np.ones((1,3))\n",
    "img2=cv2.dilate(img2,ST)\n",
    "\n",
    "for i in range(len(peaksMids)):\n",
    "    img2=removeStaffRow(img2,peaksMids[i],width[i])\n",
    "\n",
    "ST=np.ones((2,1))\n",
    "img2=cv2.dilate(img2,ST)\n",
    "img2=1-img2\n",
    "cv2.imwrite(\"outing.png\",img2*255)\n",
    "    "
   ]
  },
  {
   "cell_type": "code",
   "execution_count": 10,
   "metadata": {},
   "outputs": [],
   "source": [
    "\n",
    "img=cv2.imread('note.png')\n",
    "img2=img2*255\n",
    "img2=img2.astype('uint8')\n",
    "count, labels, stats, centroids = cv2.connectedComponentsWithStats(img2)\n",
    "for i in range(1,count):\n",
    "    t2 = cv2.circle(img2, (int(centroids[i,0]), int(centroids[i,1])), 5, (0, 255, 0, 0), 5)\n",
    "\n",
    "cv2.imshow('circles', img2)\n",
    "cv2.waitKey(0)\n",
    "cv2.destroyAllWindows()\n",
    "cv2.imshow('centers', t2)\n",
    "cv2.waitKey(0)\n",
    "cv2.destroyAllWindows()"
   ]
  },
  {
   "cell_type": "code",
   "execution_count": null,
   "metadata": {},
   "outputs": [],
   "source": []
  }
 ],
 "metadata": {
  "kernelspec": {
   "display_name": "Python 3",
   "language": "python",
   "name": "python3"
  },
  "language_info": {
   "codemirror_mode": {
    "name": "ipython",
    "version": 3
   },
   "file_extension": ".py",
   "mimetype": "text/x-python",
   "name": "python",
   "nbconvert_exporter": "python",
   "pygments_lexer": "ipython3",
   "version": "3.8.3"
  }
 },
 "nbformat": 4,
 "nbformat_minor": 2
}
