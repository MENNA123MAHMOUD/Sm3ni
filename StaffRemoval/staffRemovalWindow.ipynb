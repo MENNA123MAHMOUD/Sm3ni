{
 "cells": [
  {
   "cell_type": "code",
   "execution_count": 49,
   "metadata": {},
   "outputs": [],
   "source": [
    "import cv2\n",
    "import skimage.io as io\n",
    "import numpy as np\n",
    "from skimage.morphology import binary_erosion, binary_dilation, binary_closing,skeletonize, thin\n",
    "from scipy.signal import convolve2d\n",
    "from statistics import mode \n",
    "from math import sqrt"
   ]
  },
  {
   "cell_type": "code",
   "execution_count": 50,
   "metadata": {},
   "outputs": [],
   "source": [
    "def showBinaryImg(img):\n",
    "    cv2.imshow(\"Images\",img*255)\n",
    "    cv2.waitKey(0) \n",
    "    cv2.destroyAllWindows()\n",
    "def showImg(img):\n",
    "    cv2.imshow(\"Images\",img)\n",
    "    cv2.waitKey(0) \n",
    "    cv2.destroyAllWindows()"
   ]
  },
  {
   "cell_type": "code",
   "execution_count": 51,
   "metadata": {},
   "outputs": [],
   "source": [
    "def opening(img,ST):\n",
    "    imgEroded=cv2.erode(img,ST)\n",
    "    return cv2.dilate(imgEroded,ST)\n",
    "def closing(img,ST):\n",
    "    imgDilated=cv2.dilate(img,ST)\n",
    "    return cv2.erode(imgDilated,ST)"
   ]
  },
  {
   "cell_type": "code",
   "execution_count": 52,
   "metadata": {},
   "outputs": [
    {
     "output_type": "stream",
     "name": "stdout",
     "text": [
      "(277,) (277, 682)\n"
     ]
    }
   ],
   "source": [
    "img= cv2.imread(\"note.png\",0) \n",
    "\n",
    "# cv2.imwrite(\"test.jpg\",img)\n",
    "# print(img[:,1])\n",
    "if(np.amax(img)==1):\n",
    "    # img=img.astype(\"uint8\")\n",
    "    # cv2.imwrite(\"test1.jpg\",img)\n",
    "    print(\"hi\")\n",
    "else:\n",
    "    img=(img/255)\n",
    "    # cv2.imwrite(\"test2.png\",img*255)\n",
    "# print(img[:,1])\n",
    "img2= np.copy(img)\n",
    "img=1-img\n",
    "\n",
    "\n",
    "# cv2.imwrite(\"test3.jpg\",img*255)\n",
    "# print(img)\n",
    "proj = np.sum(img,1)\n",
    "#proj=1-proj\n",
    "maxProjection = np.max(proj) \n",
    "w = 500 \n",
    "result = np.zeros(img.shape) \n",
    "result2 = np.zeros(img.shape) \n",
    "width=img.shape[1] \n",
    "binOrig=np.copy(img) \n",
    "# Draw a line for each row \n",
    "for row in range(img.shape[0]):\n",
    "    result2[row,0:int(proj[row])]=1\n",
    "    if(proj[row]>.8*maxProjection): \n",
    "        cv2.line(result, (0,row), (int(proj[row]*(maxProjection/width)),row), (255,255,255), 1) \n",
    "        \n",
    "cv2.imwrite('result2.png', result2*255) \n",
    "cv2.imwrite('result.png', result) \n",
    "result=result2\n",
    "result=1-result\n",
    "print(proj.shape, img.shape)"
   ]
  },
  {
   "cell_type": "code",
   "execution_count": 53,
   "metadata": {},
   "outputs": [
    {
     "output_type": "stream",
     "name": "stdout",
     "text": [
      "173 682\n[[1. 1. 1. ... 1. 1. 1.]\n [1. 1. 1. ... 1. 1. 1.]\n [1. 1. 1. ... 1. 1. 1.]\n ...\n [1. 1. 1. ... 1. 1. 1.]\n [1. 1. 1. ... 1. 1. 1.]\n [1. 1. 1. ... 1. 1. 1.]]\n15 17\n16.0\n22 24\n23.0\n30 32\n31.0\n38 40\n39.0\n45 48\n46.5\n82 84\n83.0\n90 92\n91.0\n98 100\n99.0\n105 108\n106.5\n113 115\n114.0\n150 152\n151.0\n158 160\n159.0\n166 168\n167.0\n174 176\n175.0\n181 183\n182.0\n218 220\n219.0\n226 228\n227.0\n234 236\n235.0\n241 243\n242.0\n249 251\n250.0\n[2 2 2 2 3 2 2 2 3 2 2 2 2 2 2 2 2 2 2 2] [ 16  23  31  39  46  83  91  99 106 114 151 159 167 175 182 219 227 235\n 242 250]\n"
     ]
    }
   ],
   "source": [
    "def calcStaffPos(rowHist):\n",
    "    n,m=rowHist.shape\n",
    "    thres=int(2*(maxProjection)/4)\n",
    "    print(thres,m)\n",
    "    start=end=0\n",
    "    print(rowHist)\n",
    "    width=[]\n",
    "    #rowHist=(rowHist/255).astype(\"uint8\")\n",
    "    peaksMid=[]\n",
    "    for i in range(n-1):\n",
    "        if(rowHist[i][thres]!=rowHist[i+1][thres]):\n",
    "            if rowHist[i][thres]==1:\n",
    "                #end of zeros\n",
    "                start=i\n",
    "            else:\n",
    "                #end of ones\n",
    "                end=i+1\n",
    "                print(start,end)\n",
    "                print((start+end)/2)\n",
    "                peaksMid.append(int((start+end)/2))\n",
    "                width.append((end-start))\n",
    "    \n",
    "    return np.array(width),np.array(peaksMid)\n",
    "\n",
    "width,peaksMids=calcStaffPos(result)\n",
    "print(width,peaksMids)"
   ]
  },
  {
   "cell_type": "code",
   "execution_count": 54,
   "metadata": {
    "tags": []
   },
   "outputs": [
    {
     "output_type": "execute_result",
     "data": {
      "text/plain": [
       "True"
      ]
     },
     "metadata": {},
     "execution_count": 54
    }
   ],
   "source": [
    "def removeStaffRow(imgOriginal,midPoint,curWidth):\n",
    "    thresPixel=curWidth\n",
    "    for i in range(imgOriginal.shape[1]):\n",
    "        pixelSum= sum(imgOriginal[midPoint-curWidth:midPoint+curWidth,i:i+1])\n",
    "        if(pixelSum<=thresPixel):\n",
    "           # print(imgOriginal[midPoint-curWidth:midPoint+curWidth,i:i+1])\n",
    "            imgOriginal[midPoint-curWidth:midPoint+curWidth,i:i+1]=0\n",
    "    return imgOriginal\n",
    "\n",
    "\n",
    "# img= cv2.imread(\"note.png\",0) \n",
    "# img=img/255\n",
    "# img=img.astype('uint8')\n",
    "# imgCopy=np.copy(img)\n",
    "# cv2.imwrite(\"imgCopy.png\",img*255)\n",
    "img2=1-img2\n",
    "ST=np.ones((1,3))\n",
    "img2=cv2.dilate(img2,ST)\n",
    "\n",
    "for i in range(len(peaksMids)):\n",
    "    img2=removeStaffRow(img2,peaksMids[i],width[i])\n",
    "\n",
    "ST=np.ones((2,1))\n",
    "img2=cv2.dilate(img2,ST)\n",
    "img2=1-img2\n",
    "cv2.imwrite(\"outing.png\",img2*255)\n",
    "    "
   ]
  },
  {
   "cell_type": "code",
   "execution_count": null,
   "metadata": {},
   "outputs": [],
   "source": []
  },
  {
   "cell_type": "code",
   "execution_count": null,
   "metadata": {},
   "outputs": [],
   "source": []
  }
 ],
 "metadata": {
  "kernelspec": {
   "display_name": "Python 3",
   "language": "python",
   "name": "python3"
  },
  "language_info": {
   "codemirror_mode": {
    "name": "ipython",
    "version": 3
   },
   "file_extension": ".py",
   "mimetype": "text/x-python",
   "name": "python",
   "nbconvert_exporter": "python",
   "pygments_lexer": "ipython3",
   "version": "3.8.5-final"
  }
 },
 "nbformat": 4,
 "nbformat_minor": 2
}