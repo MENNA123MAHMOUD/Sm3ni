{
 "metadata": {
  "language_info": {
   "codemirror_mode": {
    "name": "ipython",
    "version": 3
   },
   "file_extension": ".py",
   "mimetype": "text/x-python",
   "name": "python",
   "nbconvert_exporter": "python",
   "pygments_lexer": "ipython3",
   "version": "3.8.5-final"
  },
  "orig_nbformat": 2,
  "kernelspec": {
   "name": "python38564bit98a03dd4367347d0aeef0487258956ad",
   "display_name": "Python 3.8.5 64-bit",
   "language": "python"
  }
 },
 "nbformat": 4,
 "nbformat_minor": 2,
 "cells": [
  {
   "cell_type": "code",
   "execution_count": 1,
   "metadata": {},
   "outputs": [],
   "source": [
    "import cv2\n",
    "import skimage.io as io\n",
    "import numpy as np\n",
    "from skimage.morphology import binary_erosion, binary_dilation, binary_closing,skeletonize, thin\n",
    "from scipy.signal import convolve2d\n",
    "from statistics import mode \n",
    "from math import sqrt"
   ]
  },
  {
   "cell_type": "code",
   "execution_count": 2,
   "metadata": {},
   "outputs": [],
   "source": [
    "def showBinaryImg(img):\n",
    "    cv2.imshow(\"Images\",img*255)\n",
    "    cv2.waitKey(0) \n",
    "    cv2.destroyAllWindows()\n",
    "def showImg(img):\n",
    "    cv2.imshow(\"Images\",img)\n",
    "    cv2.waitKey(0) \n",
    "    cv2.destroyAllWindows()"
   ]
  },
  {
   "cell_type": "code",
   "execution_count": 3,
   "metadata": {},
   "outputs": [],
   "source": [
    "def calcStaffHeightSpace(img):\n",
    "    count=0\n",
    "    staffHeight=[]\n",
    "    staffSpace=[]\n",
    "    n,m=img.shape\n",
    "    lines=[]\n",
    "    for j in range(m):\n",
    "        start=end=0\n",
    "        for i in range(n-1):\n",
    "            if(img[i][j]!=img[i+1][j]):\n",
    "                if img[i][j]==0:\n",
    "                    #end of zeros\n",
    "                    start=i\n",
    "                    staffSpace.append(count)\n",
    "                else:\n",
    "                    #end of ones\n",
    "                    end=i\n",
    "                    lines.append([j,start,end,count])#colIndex,start in coloum Index,end in coloum index,thikness\n",
    "                    staffHeight.append(count)\n",
    "                count=0\n",
    "            else:\n",
    "                count+=1\n",
    "        \n",
    "                       \n",
    "    staffHeight=mode(staffHeight)\n",
    "    staffSpace=mode(staffSpace)\n",
    "    return lines,staffSpace,staffHeight\n"
   ]
  },
  {
   "cell_type": "code",
   "execution_count": 4,
   "metadata": {},
   "outputs": [],
   "source": [
    "def removeSymbol(img,lines,staffHeight,staffSpace):\n",
    "    Thres=min(staffHeight+staffSpace,2*staffHeight)\n",
    "    lines=np.array(lines)\n",
    "    indices=np.where(lines[:,3]>Thres)\n",
    "    staffImg=np.copy(img)\n",
    "    for i in indices[0]:\n",
    "       # print(i)\n",
    "        col,start,end,thres=lines[i]\n",
    "        staffImg[start:end+1,col]=0\n",
    "    #print(img)\n",
    "    return staffImg"
   ]
  },
  {
   "cell_type": "code",
   "execution_count": 5,
   "metadata": {
    "tags": []
   },
   "outputs": [
    {
     "output_type": "stream",
     "name": "stdout",
     "text": [
      "[[0. 0. 0. ... 0. 0. 0.]\n [0. 0. 0. ... 0. 0. 0.]\n [0. 0. 0. ... 0. 0. 0.]\n ...\n [0. 0. 0. ... 0. 0. 0.]\n [0. 0. 0. ... 0. 0. 0.]\n [0. 0. 0. ... 0. 0. 0.]]\n[[0. 0. 0. ... 0. 0. 0.]\n [0. 0. 0. ... 0. 0. 0.]\n [0. 0. 0. ... 0. 0. 0.]\n ...\n [0. 0. 0. ... 0. 0. 0.]\n [0. 0. 0. ... 0. 0. 0.]\n [0. 0. 0. ... 0. 0. 0.]]\n"
     ]
    },
    {
     "output_type": "execute_result",
     "data": {
      "text/plain": [
       "True"
      ]
     },
     "metadata": {},
     "execution_count": 5
    }
   ],
   "source": [
    "img= cv2.imread(\"Binarized.png\",0) \n",
    "img=img/255\n",
    "# print(img)\n",
    "img=1-img\n",
    "imgLines,staffS,staffH=calcStaffHeightSpace(img)\n",
    "# print(staffH,staffS)\n",
    "imgRemovedSymbols=removeSymbol(img,imgLines,staffH,staffS)\n",
    "cv2.imwrite(\"staffout.png\",imgRemovedSymbols*255)\n",
    "#showBinaryImg(imgRemovedSymbols)\n",
    "neg=img-imgRemovedSymbols\n",
    "print(img)\n",
    "print(imgRemovedSymbols)\n",
    "cv2.imwrite(\"neg.png\",img*255)"
   ]
  },
  {
   "cell_type": "code",
   "execution_count": 6,
   "metadata": {
    "tags": []
   },
   "outputs": [
    {
     "output_type": "error",
     "ename": "NameError",
     "evalue": "name 'col' is not defined",
     "traceback": [
      "\u001b[0;31m---------------------------------------------------------------------------\u001b[0m",
      "\u001b[0;31mNameError\u001b[0m                                 Traceback (most recent call last)",
      "\u001b[0;32m<ipython-input-6-0c9e30d3f5bf>\u001b[0m in \u001b[0;36m<module>\u001b[0;34m\u001b[0m\n\u001b[1;32m     29\u001b[0m             \u001b[0morient\u001b[0m\u001b[0;34m=\u001b[0m\u001b[0;36m0\u001b[0m\u001b[0;34m\u001b[0m\u001b[0;34m\u001b[0m\u001b[0m\n\u001b[1;32m     30\u001b[0m             \u001b[0;32mfor\u001b[0m \u001b[0mj\u001b[0m \u001b[0;32min\u001b[0m \u001b[0mrange\u001b[0m\u001b[0;34m(\u001b[0m\u001b[0mk\u001b[0m\u001b[0;34m)\u001b[0m\u001b[0;34m:\u001b[0m\u001b[0;34m\u001b[0m\u001b[0;34m\u001b[0m\u001b[0m\n\u001b[0;32m---> 31\u001b[0;31m                 \u001b[0;32mif\u001b[0m\u001b[0;34m(\u001b[0m\u001b[0mcol\u001b[0m\u001b[0;34m+\u001b[0m\u001b[0mj\u001b[0m\u001b[0;34m+\u001b[0m\u001b[0;36m1\u001b[0m\u001b[0;34m<\u001b[0m\u001b[0mm\u001b[0m\u001b[0;34m)\u001b[0m\u001b[0;34m:\u001b[0m\u001b[0;34m\u001b[0m\u001b[0;34m\u001b[0m\u001b[0m\n\u001b[0m\u001b[1;32m     32\u001b[0m \u001b[0;34m\u001b[0m\u001b[0m\n\u001b[1;32m     33\u001b[0m                     \u001b[0morient\u001b[0m\u001b[0;34m+=\u001b[0m\u001b[0mgetDist\u001b[0m\u001b[0;34m(\u001b[0m\u001b[0mlines\u001b[0m\u001b[0;34m[\u001b[0m\u001b[0mcomponent\u001b[0m\u001b[0;34m]\u001b[0m\u001b[0;34m,\u001b[0m\u001b[0mcomponent\u001b[0m\u001b[0;34m,\u001b[0m\u001b[0mlines\u001b[0m\u001b[0;34m,\u001b[0m\u001b[0mcol\u001b[0m\u001b[0;34m+\u001b[0m\u001b[0mj\u001b[0m\u001b[0;34m+\u001b[0m\u001b[0;36m1\u001b[0m\u001b[0;34m,\u001b[0m\u001b[0mstaffHremoved\u001b[0m\u001b[0;34m)\u001b[0m\u001b[0;34m\u001b[0m\u001b[0;34m\u001b[0m\u001b[0m\n",
      "\u001b[0;31mNameError\u001b[0m: name 'col' is not defined"
     ]
    }
   ],
   "source": [
    "def getDist(curComp,compIndex,lines,j,staffHremoved):\n",
    "    indices=np.where((lines[:,0]==j) & (lines[:,3] >= 0.5*staffHremoved) & (lines[:,3] <= 2*staffHremoved))\n",
    "    print(indices)\n",
    "    if(compIndex>=indices[0].size):\n",
    "        return 0\n",
    "    print(\"outtt\")\n",
    "    nextComp=lines[indices[0][compIndex]]\n",
    "    colIndex1=curComp[0]\n",
    "    colIndex2=nextComp[0]\n",
    "    rowIndex1=(curComp[2]+curComp[1])/2\n",
    "    rowIndex2=(nextComp[2]+nextComp[1])/2\n",
    "    dist=sqrt((colIndex1-colIndex2)**2+(rowIndex1-rowIndex2)**2)\n",
    "    print(rowIndex1,rowIndex2)\n",
    "    return (1/j)*dist\n",
    "\n",
    "imgLines,staffSremoved,staffHremoved=calcStaffHeightSpace(imgRemovedSymbols)\n",
    "lines=np.array(imgLines)\n",
    "indices=np.where(lines[:,0]==5)\n",
    "k=10\n",
    "oGlobal=[]\n",
    "m=imgRemovedSymbols.shape[1]\n",
    "for i in range(m):\n",
    "    o=[]\n",
    "    indices=np.where((lines[:,0]==i) & (lines[:,3] >= 0.5*staffHremoved) & (lines[:,3] <= 2*staffHremoved))\n",
    "    if indices[0].size > 5:\n",
    "        for component in indices[0]:\n",
    "            # if(i==735):\n",
    "            #     print(i,lines[component])\n",
    "            orient=0\n",
    "            for j in range(k):\n",
    "                if(col+j+1<m):\n",
    "\n",
    "                    orient+=getDist(lines[component],component,lines,col+j+1,staffHremoved)\n",
    "            o.append(orient)\n",
    "        oi=sum(o)/indices[0].size\n",
    "        oGlobal.append(oi)\n",
    "\n",
    "#print(oGlobal)\n"
   ]
  },
  {
   "cell_type": "code",
   "execution_count": null,
   "metadata": {},
   "outputs": [],
   "source": []
  }
 ]
}