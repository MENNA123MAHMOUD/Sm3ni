{
 "metadata": {
  "language_info": {
   "codemirror_mode": {
    "name": "ipython",
    "version": 3
   },
   "file_extension": ".py",
   "mimetype": "text/x-python",
   "name": "python",
   "nbconvert_exporter": "python",
   "pygments_lexer": "ipython3",
   "version": "3.8.5-final"
  },
  "orig_nbformat": 2,
  "kernelspec": {
   "name": "python38564bit98a03dd4367347d0aeef0487258956ad",
   "display_name": "Python 3.8.5 64-bit",
   "language": "python"
  }
 },
 "nbformat": 4,
 "nbformat_minor": 2,
 "cells": [
  {
   "cell_type": "code",
   "execution_count": 2,
   "metadata": {},
   "outputs": [],
   "source": [
    "import cv2\n",
    "import skimage.io as io\n",
    "import numpy as np\n",
    "from skimage.morphology import binary_erosion, binary_dilation, binary_closing,skeletonize, thin\n",
    "from scipy.signal import convolve2d\n",
    "from statistics import mode \n",
    "from math import min"
   ]
  },
  {
   "cell_type": "code",
   "execution_count": 3,
   "metadata": {},
   "outputs": [],
   "source": [
    "img= cv2.imread(\"1.png\",0) \n",
    "def calcStaffHeightSpace(img):\n",
    "    count=0\n",
    "    staffHeight=[]\n",
    "    staffSpace=[]\n",
    "    n,m=img.shape\n",
    "    for j in range(m):\n",
    "        lines=[]\n",
    "        for i in range(n-1):\n",
    "            if(img[i][j]!=img[i+1][j]):\n",
    "                if img[i][j]==0:\n",
    "                    staffSpace.append(count)\n",
    "                else:\n",
    "                    staffHeight.append(count)\n",
    "                count=0\n",
    "            else:\n",
    "                count+=1\n",
    "        \n",
    "                       \n",
    "    staffHeight=mode(staffHeight)\n",
    "    staffSpace=mode(staffSpace)\n",
    "    return staffSpace,staffHeight\n"
   ]
  },
  {
   "cell_type": "code",
   "execution_count": 4,
   "metadata": {},
   "outputs": [],
   "source": [
    "def removeSymbol(img,staffHeight,staffSpace):\n",
    "    Thres=min(staffHeight+staffSpace,2*staffHeight)\n",
    "    \n"
   ]
  },
  {
   "cell_type": "code",
   "execution_count": null,
   "metadata": {},
   "outputs": [],
   "source": []
  }
 ]
}